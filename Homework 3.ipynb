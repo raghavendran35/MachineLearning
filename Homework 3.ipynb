{
 "cells": [
  {
   "cell_type": "markdown",
   "metadata": {},
   "source": [
    "# Homework 3: Hyperparameter Tuning with SVMs\n",
    "\n",
    "The final deliverable for this homework will be this Jupyter notebook, which should include all relevant code, markdown cells before each code block describing what the code does, and any write-ups/images/plots that you wish to include.\n",
    "\n",
    "To add a block click on `Insert > Insert Cell Below`. To make a markdown cell, click the drop-down menu at the top of this page and select `Markdown`. \n",
    "\n",
    "The starter code for this homework is purposely very minimal. You should get used to coding from scratch. Just follow all the instructions in the PDF you will be fine."
   ]
  },
  {
   "cell_type": "code",
   "execution_count": 106,
   "metadata": {
    "collapsed": true
   },
   "outputs": [],
   "source": [
    "import numpy as np\n",
    "import pandas as pd\n",
    "\n",
    "from sklearn.svm import SVC\n",
    "from sklearn.model_selection import train_test_split, GridSearchCV, ShuffleSplit\n",
    "\n",
    "import matplotlib.pyplot as plt"
   ]
  },
  {
   "cell_type": "code",
   "execution_count": 27,
   "metadata": {
    "collapsed": true
   },
   "outputs": [],
   "source": [
    "breast_cancer = pd.read_csv(\"breast-cancer-wisconsin.data\")"
   ]
  },
  {
   "cell_type": "code",
   "execution_count": 28,
   "metadata": {},
   "outputs": [
    {
     "data": {
      "text/plain": [
       "Index(['1000025', '5', '1', '1.1', '1.2', '2', '1.3', '3', '1.4', '1.5',\n",
       "       '2.1'],\n",
       "      dtype='object')"
      ]
     },
     "execution_count": 28,
     "metadata": {},
     "output_type": "execute_result"
    }
   ],
   "source": [
    "breast_cancer.columns"
   ]
  },
  {
   "cell_type": "code",
   "execution_count": 34,
   "metadata": {},
   "outputs": [
    {
     "data": {
      "text/html": [
       "<div>\n",
       "<style>\n",
       "    .dataframe thead tr:only-child th {\n",
       "        text-align: right;\n",
       "    }\n",
       "\n",
       "    .dataframe thead th {\n",
       "        text-align: left;\n",
       "    }\n",
       "\n",
       "    .dataframe tbody tr th {\n",
       "        vertical-align: top;\n",
       "    }\n",
       "</style>\n",
       "<table border=\"1\" class=\"dataframe\">\n",
       "  <thead>\n",
       "    <tr style=\"text-align: right;\">\n",
       "      <th></th>\n",
       "      <th>id number</th>\n",
       "      <th>Clump Thickness</th>\n",
       "      <th>Uniformity of Cell Size</th>\n",
       "      <th>Uniformity of Cell Shape</th>\n",
       "      <th>Marginal Adhesion</th>\n",
       "      <th>Epithelial Cell Size</th>\n",
       "      <th>Bare Nuclei</th>\n",
       "      <th>Bland Chromatin</th>\n",
       "      <th>Normal Nucleoli</th>\n",
       "      <th>Mitoses</th>\n",
       "      <th>Class</th>\n",
       "    </tr>\n",
       "  </thead>\n",
       "  <tbody>\n",
       "    <tr>\n",
       "      <th>0</th>\n",
       "      <td>1002945</td>\n",
       "      <td>0.197910</td>\n",
       "      <td>0.275917</td>\n",
       "      <td>0.261417</td>\n",
       "      <td>0.756212</td>\n",
       "      <td>1.692252</td>\n",
       "      <td>1.769880</td>\n",
       "      <td>-0.181831</td>\n",
       "      <td>-0.285663</td>\n",
       "      <td>-0.348430</td>\n",
       "      <td>0</td>\n",
       "    </tr>\n",
       "    <tr>\n",
       "      <th>1</th>\n",
       "      <td>1015425</td>\n",
       "      <td>-0.510619</td>\n",
       "      <td>-0.702465</td>\n",
       "      <td>-0.742072</td>\n",
       "      <td>-0.639557</td>\n",
       "      <td>-0.555734</td>\n",
       "      <td>-0.424771</td>\n",
       "      <td>-0.181831</td>\n",
       "      <td>-0.613096</td>\n",
       "      <td>-0.348430</td>\n",
       "      <td>0</td>\n",
       "    </tr>\n",
       "    <tr>\n",
       "      <th>2</th>\n",
       "      <td>1016277</td>\n",
       "      <td>0.552175</td>\n",
       "      <td>1.580427</td>\n",
       "      <td>1.599404</td>\n",
       "      <td>-0.639557</td>\n",
       "      <td>-0.106137</td>\n",
       "      <td>0.123892</td>\n",
       "      <td>-0.181831</td>\n",
       "      <td>1.351499</td>\n",
       "      <td>-0.348430</td>\n",
       "      <td>0</td>\n",
       "    </tr>\n",
       "    <tr>\n",
       "      <th>3</th>\n",
       "      <td>1017023</td>\n",
       "      <td>-0.156354</td>\n",
       "      <td>-0.702465</td>\n",
       "      <td>-0.742072</td>\n",
       "      <td>0.058328</td>\n",
       "      <td>-0.555734</td>\n",
       "      <td>-0.699103</td>\n",
       "      <td>-0.181831</td>\n",
       "      <td>-0.613096</td>\n",
       "      <td>-0.348430</td>\n",
       "      <td>0</td>\n",
       "    </tr>\n",
       "    <tr>\n",
       "      <th>4</th>\n",
       "      <td>1017122</td>\n",
       "      <td>1.260703</td>\n",
       "      <td>2.232682</td>\n",
       "      <td>2.268397</td>\n",
       "      <td>1.803038</td>\n",
       "      <td>1.692252</td>\n",
       "      <td>1.769880</td>\n",
       "      <td>2.265715</td>\n",
       "      <td>1.351499</td>\n",
       "      <td>-0.348430</td>\n",
       "      <td>1</td>\n",
       "    </tr>\n",
       "    <tr>\n",
       "      <th>5</th>\n",
       "      <td>1018099</td>\n",
       "      <td>-1.219147</td>\n",
       "      <td>-0.702465</td>\n",
       "      <td>-0.742072</td>\n",
       "      <td>-0.639557</td>\n",
       "      <td>-0.555734</td>\n",
       "      <td>1.769880</td>\n",
       "      <td>-0.181831</td>\n",
       "      <td>-0.613096</td>\n",
       "      <td>-0.348430</td>\n",
       "      <td>0</td>\n",
       "    </tr>\n",
       "    <tr>\n",
       "      <th>6</th>\n",
       "      <td>1018561</td>\n",
       "      <td>-0.864883</td>\n",
       "      <td>-0.702465</td>\n",
       "      <td>-0.407576</td>\n",
       "      <td>-0.639557</td>\n",
       "      <td>-0.555734</td>\n",
       "      <td>-0.699103</td>\n",
       "      <td>-0.181831</td>\n",
       "      <td>-0.613096</td>\n",
       "      <td>-0.348430</td>\n",
       "      <td>0</td>\n",
       "    </tr>\n",
       "    <tr>\n",
       "      <th>7</th>\n",
       "      <td>1033078</td>\n",
       "      <td>-0.864883</td>\n",
       "      <td>-0.702465</td>\n",
       "      <td>-0.742072</td>\n",
       "      <td>-0.639557</td>\n",
       "      <td>-0.555734</td>\n",
       "      <td>-0.699103</td>\n",
       "      <td>-0.997680</td>\n",
       "      <td>-0.613096</td>\n",
       "      <td>1.958652</td>\n",
       "      <td>0</td>\n",
       "    </tr>\n",
       "    <tr>\n",
       "      <th>8</th>\n",
       "      <td>1033078</td>\n",
       "      <td>-0.156354</td>\n",
       "      <td>-0.376338</td>\n",
       "      <td>-0.742072</td>\n",
       "      <td>-0.639557</td>\n",
       "      <td>-0.555734</td>\n",
       "      <td>-0.699103</td>\n",
       "      <td>-0.589756</td>\n",
       "      <td>-0.613096</td>\n",
       "      <td>-0.348430</td>\n",
       "      <td>0</td>\n",
       "    </tr>\n",
       "    <tr>\n",
       "      <th>9</th>\n",
       "      <td>1035283</td>\n",
       "      <td>-1.219147</td>\n",
       "      <td>-0.702465</td>\n",
       "      <td>-0.742072</td>\n",
       "      <td>-0.639557</td>\n",
       "      <td>-1.005331</td>\n",
       "      <td>-0.699103</td>\n",
       "      <td>-0.181831</td>\n",
       "      <td>-0.613096</td>\n",
       "      <td>-0.348430</td>\n",
       "      <td>0</td>\n",
       "    </tr>\n",
       "  </tbody>\n",
       "</table>\n",
       "</div>"
      ],
      "text/plain": [
       "   id number  Clump Thickness  Uniformity of Cell Size  \\\n",
       "0    1002945         0.197910                 0.275917   \n",
       "1    1015425        -0.510619                -0.702465   \n",
       "2    1016277         0.552175                 1.580427   \n",
       "3    1017023        -0.156354                -0.702465   \n",
       "4    1017122         1.260703                 2.232682   \n",
       "5    1018099        -1.219147                -0.702465   \n",
       "6    1018561        -0.864883                -0.702465   \n",
       "7    1033078        -0.864883                -0.702465   \n",
       "8    1033078        -0.156354                -0.376338   \n",
       "9    1035283        -1.219147                -0.702465   \n",
       "\n",
       "   Uniformity of Cell Shape  Marginal Adhesion  Epithelial Cell Size  \\\n",
       "0                  0.261417           0.756212              1.692252   \n",
       "1                 -0.742072          -0.639557             -0.555734   \n",
       "2                  1.599404          -0.639557             -0.106137   \n",
       "3                 -0.742072           0.058328             -0.555734   \n",
       "4                  2.268397           1.803038              1.692252   \n",
       "5                 -0.742072          -0.639557             -0.555734   \n",
       "6                 -0.407576          -0.639557             -0.555734   \n",
       "7                 -0.742072          -0.639557             -0.555734   \n",
       "8                 -0.742072          -0.639557             -0.555734   \n",
       "9                 -0.742072          -0.639557             -1.005331   \n",
       "\n",
       "   Bare Nuclei  Bland Chromatin  Normal Nucleoli   Mitoses  Class  \n",
       "0     1.769880        -0.181831        -0.285663 -0.348430      0  \n",
       "1    -0.424771        -0.181831        -0.613096 -0.348430      0  \n",
       "2     0.123892        -0.181831         1.351499 -0.348430      0  \n",
       "3    -0.699103        -0.181831        -0.613096 -0.348430      0  \n",
       "4     1.769880         2.265715         1.351499 -0.348430      1  \n",
       "5     1.769880        -0.181831        -0.613096 -0.348430      0  \n",
       "6    -0.699103        -0.181831        -0.613096 -0.348430      0  \n",
       "7    -0.699103        -0.997680        -0.613096  1.958652      0  \n",
       "8    -0.699103        -0.589756        -0.613096 -0.348430      0  \n",
       "9    -0.699103        -0.181831        -0.613096 -0.348430      0  "
      ]
     },
     "execution_count": 34,
     "metadata": {},
     "output_type": "execute_result"
    }
   ],
   "source": [
    "breast_cancer.head(10)"
   ]
  },
  {
   "cell_type": "code",
   "execution_count": 30,
   "metadata": {},
   "outputs": [],
   "source": [
    "\"\"\"1. Sample code number: id number \n",
    "2. Clump Thickness: 1 - 10 \n",
    "3. Uniformity of Cell Size: 1 - 10 \n",
    "4. Uniformity of Cell Shape: 1 - 10 \n",
    "5. Marginal Adhesion: 1 - 10 \n",
    "6. Single Epithelial Cell Size: 1 - 10 \n",
    "7. Bare Nuclei: 1 - 10 \n",
    "8. Bland Chromatin: 1 - 10 \n",
    "9. Normal Nucleoli: 1 - 10 \n",
    "10. Mitoses: 1 - 10 \n",
    "11. Class: (2 for benign, 4 for malignant)\"\"\"\n",
    "breast_cancer.columns = [\"id number\", 'Clump Thickness',\"Uniformity of Cell Size\",\"Uniformity of Cell Shape\", \"Marginal Adhesion\",\"Epithelial Cell Size\", \"Bare Nuclei\", \"Bland Chromatin\", \"Normal Nucleoli\", \"Mitoses\", \"Class\"]"
   ]
  },
  {
   "cell_type": "code",
   "execution_count": 31,
   "metadata": {},
   "outputs": [
    {
     "data": {
      "text/plain": [
       "count    682.000000\n",
       "mean       4.441349\n",
       "std        2.822751\n",
       "min        1.000000\n",
       "25%        2.000000\n",
       "50%        4.000000\n",
       "75%        6.000000\n",
       "max       10.000000\n",
       "Name: Clump Thickness, dtype: float64"
      ]
     },
     "execution_count": 31,
     "metadata": {},
     "output_type": "execute_result"
    }
   ],
   "source": [
    "breast_cancer['Clump Thickness'].describe()"
   ]
  },
  {
   "cell_type": "code",
   "execution_count": 32,
   "metadata": {
    "collapsed": true
   },
   "outputs": [],
   "source": [
    "breast_cancer['Clump Thickness'] = (breast_cancer['Clump Thickness']-breast_cancer['Clump Thickness'].mean())/(breast_cancer['Clump Thickness'].std())\n",
    "breast_cancer['Uniformity of Cell Size'] = (breast_cancer['Uniformity of Cell Size']-breast_cancer['Uniformity of Cell Size'].mean())/(breast_cancer['Uniformity of Cell Size'].std())\n",
    "breast_cancer['Uniformity of Cell Shape'] = (breast_cancer['Uniformity of Cell Shape']-breast_cancer['Uniformity of Cell Shape'].mean())/(breast_cancer['Uniformity of Cell Shape'].std())\n",
    "breast_cancer['Marginal Adhesion'] = (breast_cancer['Marginal Adhesion']-breast_cancer['Marginal Adhesion'].mean())/(breast_cancer['Marginal Adhesion'].std())\n",
    "breast_cancer['Epithelial Cell Size'] = (breast_cancer['Epithelial Cell Size']-breast_cancer['Epithelial Cell Size'].mean())/(breast_cancer['Epithelial Cell Size'].std())\n",
    "breast_cancer['Bare Nuclei'] = (breast_cancer['Bare Nuclei']-breast_cancer['Bare Nuclei'].mean())/(breast_cancer['Bare Nuclei'].std())\n",
    "breast_cancer['Bland Chromatin'] = (breast_cancer['Bland Chromatin']-breast_cancer['Bland Chromatin'].mean())/(breast_cancer['Bland Chromatin'].std())\n",
    "breast_cancer['Normal Nucleoli'] = (breast_cancer['Normal Nucleoli']-breast_cancer['Normal Nucleoli'].mean())/(breast_cancer['Normal Nucleoli'].std())\n",
    "breast_cancer['Mitoses'] = (breast_cancer['Mitoses']-breast_cancer['Mitoses'].mean())/(breast_cancer['Mitoses'].std())\n",
    "\n",
    "\n"
   ]
  },
  {
   "cell_type": "code",
   "execution_count": 58,
   "metadata": {},
   "outputs": [
    {
     "name": "stdout",
     "output_type": "stream",
     "text": [
      "[[1002945.0, 0.1979101650332138, 0.2759172562378148, 0.2614173816114833, 0.7562116591580155, 1.6922519258801012, 1.7698802620215197, -0.1818313695624505, -0.2856631762584309, -0.3484303411022345, 0.0]]\n"
     ]
    }
   ],
   "source": [
    "#breast_cancer['Class'] = [0 for b in breast_cancer['Class'] if b == 2]\n",
    "breast_cancer.Class = breast_cancer.Class.replace({2: 0, 4: 1})\n",
    "C = [.0001, .001, .01, .1, 1, 10, 100]\n",
    "d = [1,2,3,4,5]\n",
    "gamma = [.001, .01, .1, 1, 10, 100]\n",
    "obtained = breast_cancer.values.tolist()\n",
    "print(obtained[:1])"
   ]
  },
  {
   "cell_type": "code",
   "execution_count": 115,
   "metadata": {},
   "outputs": [
    {
     "data": {
      "text/plain": [
       "([-0.5106186147707328,\n",
       "  -0.702465250283102,\n",
       "  -0.742072229602578,\n",
       "  -0.6395565452960212,\n",
       "  -0.5557336866057363,\n",
       "  -0.42477126288516476,\n",
       "  -0.1818313695624505,\n",
       "  -0.6130955900538089,\n",
       "  -0.3484303411022345],\n",
       " [-1.2191473945746794,\n",
       "  -0.702465250283102,\n",
       "  -0.742072229602578,\n",
       "  -0.6395565452960212,\n",
       "  -1.0053308091029038,\n",
       "  -0.6991027034985003,\n",
       "  -0.9976800145729191,\n",
       "  -0.6130955900538089,\n",
       "  -0.3484303411022345])"
      ]
     },
     "execution_count": 115,
     "metadata": {},
     "output_type": "execute_result"
    }
   ],
   "source": [
    "#polynomial kernel\n",
    "X = [x[1:10] for x in obtained]\n",
    "y = [x[10] for x in obtained]\n",
    "\n",
    "X_train, X_test, y_train, y_test = train_test_split(X, y, test_size = 0.3, random_state = 0)\n",
    "len(X_test)\n",
    "len(y_test)\n",
    "X[1], X_test[1]"
   ]
  },
  {
   "cell_type": "code",
   "execution_count": 171,
   "metadata": {},
   "outputs": [
    {
     "name": "stdout",
     "output_type": "stream",
     "text": [
      "The best C value is 0.1 and the best degree value is 1 with an accuracy of 0.980487804878\n",
      "It seems like low degree values and low C values indicate the least accuracy. The opposite is not necessarily the highest accuracy but\n",
      "the when the degree is highest and C is lowest, we get the highest accuracy present. \n"
     ]
    },
    {
     "data": {
      "image/png": "[encoded data removed]",
      "text/plain": [
       "<matplotlib.figure.Figure at 0x11ad8fc18>"
      ]
     },
     "metadata": {},
     "output_type": "display_data"
    }
   ],
   "source": [
    "#NOTE: THIS IS FOR THE FIRST PART WHERE WE ARE LOOKING AT C and d\n",
    "\n",
    "plot_d = []\n",
    "plot_c = []\n",
    "plot_z = []\n",
    "C = [.0001, .001, .01, .1, 1, 10, 100]\n",
    "d = [1,2,3,4,5]\n",
    "for i in d:\n",
    "    for c in C:\n",
    "        plot_d.append(i)\n",
    "        plot_c.append(c)\n",
    "        s = SVC(C = c, kernel = 'poly', degree = i, probability = True)\n",
    "        clf = s.fit(X_train, y_train)\n",
    "        plot_z.append(clf.score(X_test, y_test))\n",
    "d = [1,2,3,4,5]\n",
    "C = [.0001, .001, .01, .1, 1, 10, 100]\n",
    "#svc = SVC(C = 0.0001 , kernel = 'poly', degree = 1)\n",
    "#clf = svc.fit(X_train, y_train)\n",
    "#print(clf.score(X_test, y_test))\n",
    "#print(plot_d)\n",
    "#print(plot_c)\n",
    "#print(plot_z)\n",
    "index = [i for i in range(len(plot_z)) if plot_z[i] == max(plot_z)][0]\n",
    "print(\"The best C value is \" + str(plot_c[index]) + \" and the best degree value is \" + str(plot_d[index]) + \" with an accuracy of \" + str(plot_z[index]) )\n",
    "new_list = [plot_z[i:i+5] for i in range(0, len(plot_z), 5)]\n",
    "print(\"It seems like low degree values and low C values indicate the least accuracy. The opposite is not necessarily the highest accuracy but\")\n",
    "print(\"the when the degree is highest and C is lowest, we get the highest accuracy present. \")\n",
    "plt.imshow(new_list)\n",
    "plt.colorbar()\n",
    "plt.xlabel(\"degree values\")\n",
    "plt.ylabel(\"C values\")\n",
    "xi = [i for i in range(0, len(d))]\n",
    "plt.xticks(xi, d)\n",
    "yi = [i for i in range(0, len(C))]\n",
    "plt.yticks(yi, C)\n",
    "plt.title(\"Heat Map for C and degree values\")\n",
    "plt.show()"
   ]
  },
  {
   "cell_type": "code",
   "execution_count": null,
   "metadata": {
    "collapsed": true
   },
   "outputs": [],
   "source": []
  },
  {
   "cell_type": "code",
   "execution_count": null,
   "metadata": {},
   "outputs": [],
   "source": [
    "##########BELOW IS THE 2ND SVM###############"
   ]
  },
  {
   "cell_type": "code",
   "execution_count": 172,
   "metadata": {},
   "outputs": [
    {
     "name": "stdout",
     "output_type": "stream",
     "text": [
      "20\n",
      "The best C value is 100 and the best gamma value is 0.1 with an accuracy of 0.960975609756\n"
     ]
    },
    {
     "data": {
      "image/png": "[encoded data removed]",
      "text/plain": [
       "<matplotlib.figure.Figure at 0x11aa80080>"
      ]
     },
     "metadata": {},
     "output_type": "display_data"
    }
   ],
   "source": [
    "#NOTE: THIS IS FOR THE SECOND PART WHERE WE ARE LOOKING AT C and gamma\n",
    "C = [0.0001, 0.001, 0.01, 0.1, 1, 10, 100]\n",
    "gammas = [0.001, 0.01, 0.1, 1]\n",
    "\n",
    "plot_g = []\n",
    "plot_c = []\n",
    "plot_z = []\n",
    "C = [.0001, .001, .01, .1, 1, 10, 100]\n",
    "gammas\n",
    "for i in gammas:\n",
    "    for c in C:\n",
    "        plot_g.append(i)\n",
    "        plot_c.append(c)\n",
    "        s = SVC(C = c, kernel = 'poly', gamma = i, probability = True)\n",
    "        clf = s.fit(X_train, y_train)\n",
    "        plot_z.append(clf.score(X_test, y_test))\n",
    "\n",
    "index1 = [i for i in range(len(plot_z)) if plot_z[i] == max(plot_z)][0]\n",
    "print(index1)\n",
    "print(\"The best C value is \" + str(plot_c[index1]) + \" and the best gamma value is \" + str(plot_g[index1]) + \" with an accuracy of \" + str(plot_z[index1]) )\n",
    "new = [plot_z[i:i+4] for i in range(0, len(plot_z), 4)]\n",
    "plt.imshow(new)\n",
    "plt.colorbar()\n",
    "plt.title(\"Heat Map for C and gamma values\")\n",
    "plt.xlabel(\"gamma values\")\n",
    "plt.ylabel(\"C values\")\n",
    "xi = [i for i in range(0, len(gammas))]\n",
    "plt.xticks(xi, gammas)\n",
    "yi = [i for i in range(0, len(C))]\n",
    "plt.yticks(yi, C)\n",
    "plt.show()"
   ]
  },
  {
   "cell_type": "code",
   "execution_count": null,
   "metadata": {
    "collapsed": true
   },
   "outputs": [],
   "source": []
  },
  {
   "cell_type": "code",
   "execution_count": null,
   "metadata": {},
   "outputs": [],
   "source": []
  },
  {
   "cell_type": "code",
   "execution_count": null,
   "metadata": {
    "collapsed": true
   },
   "outputs": [],
   "source": []
  }
 ],
 "metadata": {
  "kernelspec": {
   "display_name": "Python 3",
   "language": "python",
   "name": "python3"
  },
  "language_info": {
   "codemirror_mode": {
    "name": "ipython",
    "version": 3
   },
   "file_extension": ".py",
   "mimetype": "text/x-python",
   "name": "python",
   "nbconvert_exporter": "python",
   "pygments_lexer": "ipython3",
   "version": "3.6.1"
  }
 },
 "nbformat": 4,
 "nbformat_minor": 2
}
