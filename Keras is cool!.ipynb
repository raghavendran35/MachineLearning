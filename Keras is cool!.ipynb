{
 "cells": [
  {
   "cell_type": "code",
   "execution_count": 1,
   "metadata": {},
   "outputs": [
    {
     "name": "stderr",
     "output_type": "stream",
     "text": [
      "Using TensorFlow backend.\n",
      "/Users/sachin/anaconda/lib/python3.6/importlib/_bootstrap.py:205: RuntimeWarning: compiletime version 3.5 of module 'tensorflow.python.framework.fast_tensor_util' does not match runtime version 3.6\n",
      "  return f(*args, **kwds)\n"
     ]
    }
   ],
   "source": [
    "import keras\n",
    "import numpy as np"
   ]
  },
  {
   "cell_type": "markdown",
   "metadata": {},
   "source": [
    "# Keras\n",
    "Keras is a neural network framework that wraps tensorflow (if you haven't heard of tensorflow it's another neural network framework) and makes it really simple to implement common neural networks. It's philosophy is to make simple things easy (but beware trying to implement uncommon, custom neural networks can be pretty challenging in Keras, for the purposes of this course you will never have to that though so don't worry about it). If you are ever confused during this homework, Keras has really good documentation, so just go to [Keras Docs](https://keras.io)"
   ]
  },
  {
   "cell_type": "markdown",
   "metadata": {},
   "source": [
    "# Datasets\n",
    "Keras has many datasets conviently builtin to the library. We can access them from the ``keras.datasets`` module. For this homework, we will be using their housing price dataset, their image classification dataset and their movie review sentiment dataset. To get a full list of their datasets, you can go to this link. [Keras Datasets](https://keras.io/datasets). To use their datasets, we just import them and then call ``load_data()``, load_data returns two tuples, the first one is training data, and the second one is testing data. See the example below"
   ]
  },
  {
   "cell_type": "code",
   "execution_count": 2,
   "metadata": {},
   "outputs": [],
   "source": [
    "from keras.datasets import boston_housing\n",
    "(x_train, y_train), (x_test, y_test) = boston_housing.load_data()"
   ]
  },
  {
   "cell_type": "markdown",
   "metadata": {},
   "source": [
    "You can also choose the proportion of training data you would like."
   ]
  },
  {
   "cell_type": "code",
   "execution_count": 3,
   "metadata": {},
   "outputs": [
    {
     "name": "stdout",
     "output_type": "stream",
     "text": [
      "Size of training set before:  (404, 13)\n",
      "Size of training set after:  (354, 13)\n"
     ]
    }
   ],
   "source": [
    "print(\"Size of training set before: \", x_train.shape)\n",
    "(x_train, y_train), (x_test, y_test) = boston_housing.load_data(test_split=0.30)\n",
    "print(\"Size of training set after: \", x_train.shape)"
   ]
  },
  {
   "cell_type": "code",
   "execution_count": 4,
   "metadata": {
    "collapsed": true
   },
   "outputs": [],
   "source": [
    "from keras.utils import normalize\n",
    "x_train = normalize(x_train, axis=1)\n",
    "x_test = normalize(x_test, axis=1)"
   ]
  },
  {
   "cell_type": "markdown",
   "metadata": {},
   "source": [
    "# Models\n",
    "Every thing in Keras starts out with a model. From an initial model, we can add layers, train the model on data, evaluate the model on test sets, etc. We initialize a model with ``Sequential()``. Sequential refers to the fact that the model has a sequence of layers. Personally, I have very rarely used anything other than sequential, so I think its all you really need to worry about."
   ]
  },
  {
   "cell_type": "code",
   "execution_count": 5,
   "metadata": {
    "collapsed": true
   },
   "outputs": [],
   "source": [
    "from keras.models import Sequential\n",
    "model = Sequential()"
   ]
  },
  {
   "cell_type": "markdown",
   "metadata": {},
   "source": [
    "Once we have a model, we can add layers to it with ``model.add``. Keras has a really good range of layers we can use. For example, if we want a basic fully connected layer we can use ``Dense``. I will now run through an example of using Keras to build and train a fully connected neural network for the purposes of regressing on housing prices for the dataset we loaded earlier."
   ]
  },
  {
   "cell_type": "code",
   "execution_count": 6,
   "metadata": {
    "collapsed": true
   },
   "outputs": [],
   "source": [
    "from keras.layers import Dense\n",
    "model.add(Dense(16, input_shape=(13,)))"
   ]
  },
  {
   "cell_type": "markdown",
   "metadata": {},
   "source": [
    "This line of code adds a fully connected layer with 32 neurons. For the first layer of any model we always have to specify the input shape. In our case we will be training a fully connected network on the boston housing data, so each data point has 13 features. That's why we use an input_shape of (13,). The nice part about Keras is other than the input_shape for the first layer, we don't have to worry about shapes the rest of the time, Keras takes care of it. This can be really useful when you are doing complicated convolutions and things like that where working out the input shape to the next layer can be non-trivial."
   ]
  },
  {
   "cell_type": "markdown",
   "metadata": {},
   "source": [
    "Now let's add an Activation function to our network after our first fully connected layer."
   ]
  },
  {
   "cell_type": "code",
   "execution_count": 7,
   "metadata": {
    "collapsed": true
   },
   "outputs": [],
   "source": [
    "from keras.layers import Activation\n",
    "model.add(Activation('relu'))"
   ]
  },
  {
   "cell_type": "markdown",
   "metadata": {},
   "source": [
    "Simple as that. We just added a relu activation to the whole layer. To see a list of activation functions available in Keras go to [Keras Activations](https://keras.io/activations/). Now let's add the final layer in our model."
   ]
  },
  {
   "cell_type": "code",
   "execution_count": 8,
   "metadata": {
    "collapsed": true
   },
   "outputs": [],
   "source": [
    "model.add(Dense(1))"
   ]
  },
  {
   "cell_type": "markdown",
   "metadata": {},
   "source": [
    "Now we can use a handy utility in Keras to print out what our model looks like so far."
   ]
  },
  {
   "cell_type": "code",
   "execution_count": 9,
   "metadata": {},
   "outputs": [
    {
     "name": "stdout",
     "output_type": "stream",
     "text": [
      "_________________________________________________________________\n",
      "Layer (type)                 Output Shape              Param #   \n",
      "=================================================================\n",
      "dense_1 (Dense)              (None, 16)                224       \n",
      "_________________________________________________________________\n",
      "activation_1 (Activation)    (None, 16)                0         \n",
      "_________________________________________________________________\n",
      "dense_2 (Dense)              (None, 1)                 17        \n",
      "=================================================================\n",
      "Total params: 241\n",
      "Trainable params: 241\n",
      "Non-trainable params: 0\n",
      "_________________________________________________________________\n"
     ]
    }
   ],
   "source": [
    "model.summary()"
   ]
  },
  {
   "cell_type": "markdown",
   "metadata": {},
   "source": [
    "You can see it shows us what layers we have, the output shapes of each layer, and how many parameters there are for each layer. All this information can be really useful when trying to debug a model, or even for sharing your model architechture with others."
   ]
  },
  {
   "cell_type": "markdown",
   "metadata": {},
   "source": [
    "# Training\n",
    "Now for actually training the model. Before we train a model we have to compile it. ``model.compile`` is how you specify which optimizer to use and what loss function to use. Sometimes choosing the right optimizer can have a significant effect on model performance. For a list of optimizers look at [Keras Optimizers](https://keras.io/optimizers). Choosing the right optimizer is mostly just trying each one to see which works better, there is some general advice for when to use each one but its basically just another hyperparameter. We also have to choose a loss function. Choosing the right loss function is really important since the loss function basically decides what the goal of the model is. Since we are doing regression we want to choose mean squared error, to get our output to be as close as possible to the label.  "
   ]
  },
  {
   "cell_type": "code",
   "execution_count": 10,
   "metadata": {
    "collapsed": true
   },
   "outputs": [],
   "source": [
    "model.compile(optimizer='SGD', loss='mean_squared_error')"
   ]
  },
  {
   "cell_type": "markdown",
   "metadata": {},
   "source": [
    "Now we have to actually train our model on the data. This is really easy in Keras, in fact it only takes one line of code."
   ]
  },
  {
   "cell_type": "code",
   "execution_count": 11,
   "metadata": {},
   "outputs": [
    {
     "name": "stdout",
     "output_type": "stream",
     "text": [
      "Epoch 1/100\n",
      "354/354 [==============================] - 0s 499us/step - loss: 279.9254\n",
      "Epoch 2/100\n",
      "354/354 [==============================] - 0s 40us/step - loss: 89.5591\n",
      "Epoch 3/100\n",
      "354/354 [==============================] - 0s 44us/step - loss: 75.9459\n",
      "Epoch 4/100\n",
      "354/354 [==============================] - 0s 52us/step - loss: 70.0393\n",
      "Epoch 5/100\n",
      "354/354 [==============================] - 0s 46us/step - loss: 77.7510\n",
      "Epoch 6/100\n",
      "354/354 [==============================] - 0s 41us/step - loss: 74.1329\n",
      "Epoch 7/100\n",
      "354/354 [==============================] - 0s 40us/step - loss: 68.7824\n",
      "Epoch 8/100\n",
      "354/354 [==============================] - 0s 41us/step - loss: 67.8195\n",
      "Epoch 9/100\n",
      "354/354 [==============================] - 0s 41us/step - loss: 99.5186\n",
      "Epoch 10/100\n",
      "354/354 [==============================] - 0s 42us/step - loss: 71.6657\n",
      "Epoch 11/100\n",
      "354/354 [==============================] - 0s 40us/step - loss: 71.8961\n",
      "Epoch 12/100\n",
      "354/354 [==============================] - 0s 38us/step - loss: 73.3005\n",
      "Epoch 13/100\n",
      "354/354 [==============================] - 0s 39us/step - loss: 75.7480\n",
      "Epoch 14/100\n",
      "354/354 [==============================] - 0s 38us/step - loss: 67.5932\n",
      "Epoch 15/100\n",
      "354/354 [==============================] - 0s 42us/step - loss: 72.6932\n",
      "Epoch 16/100\n",
      "354/354 [==============================] - 0s 41us/step - loss: 68.1673\n",
      "Epoch 17/100\n",
      "354/354 [==============================] - 0s 40us/step - loss: 69.6675\n",
      "Epoch 18/100\n",
      "354/354 [==============================] - 0s 39us/step - loss: 65.6978\n",
      "Epoch 19/100\n",
      "354/354 [==============================] - 0s 41us/step - loss: 116.9369\n",
      "Epoch 20/100\n",
      "354/354 [==============================] - 0s 36us/step - loss: 69.3790\n",
      "Epoch 21/100\n",
      "354/354 [==============================] - 0s 37us/step - loss: 76.6294\n",
      "Epoch 22/100\n",
      "354/354 [==============================] - 0s 36us/step - loss: 71.7216\n",
      "Epoch 23/100\n",
      "354/354 [==============================] - ETA: 0s - loss: 55.74 - 0s 40us/step - loss: 65.8722\n",
      "Epoch 24/100\n",
      "354/354 [==============================] - ETA: 0s - loss: 49.81 - 0s 44us/step - loss: 66.4529\n",
      "Epoch 25/100\n",
      "354/354 [==============================] - 0s 40us/step - loss: 79.7436\n",
      "Epoch 26/100\n",
      "354/354 [==============================] - 0s 45us/step - loss: 67.3787\n",
      "Epoch 27/100\n",
      "354/354 [==============================] - 0s 45us/step - loss: 68.7252\n",
      "Epoch 28/100\n",
      "354/354 [==============================] - 0s 45us/step - loss: 66.8873\n",
      "Epoch 29/100\n",
      "354/354 [==============================] - 0s 43us/step - loss: 69.2896\n",
      "Epoch 30/100\n",
      "354/354 [==============================] - 0s 50us/step - loss: 89.8690\n",
      "Epoch 31/100\n",
      "354/354 [==============================] - 0s 44us/step - loss: 66.3071\n",
      "Epoch 32/100\n",
      "354/354 [==============================] - 0s 41us/step - loss: 69.5024\n",
      "Epoch 33/100\n",
      "354/354 [==============================] - 0s 40us/step - loss: 64.7421\n",
      "Epoch 34/100\n",
      "354/354 [==============================] - 0s 39us/step - loss: 64.5144\n",
      "Epoch 35/100\n",
      "354/354 [==============================] - 0s 37us/step - loss: 64.4788\n",
      "Epoch 36/100\n",
      "354/354 [==============================] - 0s 37us/step - loss: 68.3169\n",
      "Epoch 37/100\n",
      "354/354 [==============================] - 0s 38us/step - loss: 68.9517\n",
      "Epoch 38/100\n",
      "354/354 [==============================] - 0s 37us/step - loss: 66.3807\n",
      "Epoch 39/100\n",
      "354/354 [==============================] - 0s 43us/step - loss: 73.4133\n",
      "Epoch 40/100\n",
      "354/354 [==============================] - 0s 38us/step - loss: 70.2632\n",
      "Epoch 41/100\n",
      "354/354 [==============================] - 0s 37us/step - loss: 65.6811\n",
      "Epoch 42/100\n",
      "354/354 [==============================] - 0s 43us/step - loss: 117.2715\n",
      "Epoch 43/100\n",
      "354/354 [==============================] - 0s 41us/step - loss: 65.8998\n",
      "Epoch 44/100\n",
      "354/354 [==============================] - 0s 38us/step - loss: 67.9720\n",
      "Epoch 45/100\n",
      "354/354 [==============================] - 0s 36us/step - loss: 64.8301\n",
      "Epoch 46/100\n",
      "354/354 [==============================] - ETA: 0s - loss: 69.84 - 0s 39us/step - loss: 71.9486\n",
      "Epoch 47/100\n",
      "354/354 [==============================] - 0s 41us/step - loss: 66.2591\n",
      "Epoch 48/100\n",
      "354/354 [==============================] - 0s 39us/step - loss: 79.9499\n",
      "Epoch 49/100\n",
      "354/354 [==============================] - 0s 37us/step - loss: 64.5227\n",
      "Epoch 50/100\n",
      "354/354 [==============================] - 0s 37us/step - loss: 66.6444\n",
      "Epoch 51/100\n",
      "354/354 [==============================] - 0s 35us/step - loss: 67.2120\n",
      "Epoch 52/100\n",
      "354/354 [==============================] - 0s 37us/step - loss: 65.9218\n",
      "Epoch 53/100\n",
      "354/354 [==============================] - 0s 42us/step - loss: 63.6667\n",
      "Epoch 54/100\n",
      "354/354 [==============================] - 0s 34us/step - loss: 65.2568\n",
      "Epoch 55/100\n",
      "354/354 [==============================] - 0s 41us/step - loss: 64.8953\n",
      "Epoch 56/100\n",
      "354/354 [==============================] - 0s 38us/step - loss: 89.8297\n",
      "Epoch 57/100\n",
      "354/354 [==============================] - 0s 30us/step - loss: 67.2568\n",
      "Epoch 58/100\n",
      "354/354 [==============================] - 0s 33us/step - loss: 62.3342\n",
      "Epoch 59/100\n",
      "354/354 [==============================] - 0s 32us/step - loss: 65.3880\n",
      "Epoch 60/100\n",
      "354/354 [==============================] - 0s 30us/step - loss: 64.4898\n",
      "Epoch 61/100\n",
      "354/354 [==============================] - 0s 31us/step - loss: 70.0845\n",
      "Epoch 62/100\n",
      "354/354 [==============================] - 0s 35us/step - loss: 72.4907\n",
      "Epoch 63/100\n",
      "354/354 [==============================] - 0s 31us/step - loss: 62.3573\n",
      "Epoch 64/100\n",
      "354/354 [==============================] - 0s 34us/step - loss: 61.6960\n",
      "Epoch 65/100\n",
      "354/354 [==============================] - 0s 32us/step - loss: 61.9385\n",
      "Epoch 66/100\n",
      "354/354 [==============================] - 0s 31us/step - loss: 66.0675\n",
      "Epoch 67/100\n",
      "354/354 [==============================] - 0s 32us/step - loss: 69.7277\n",
      "Epoch 68/100\n",
      "354/354 [==============================] - 0s 34us/step - loss: 66.6280\n",
      "Epoch 69/100\n",
      "354/354 [==============================] - 0s 30us/step - loss: 62.0775\n",
      "Epoch 70/100\n",
      "354/354 [==============================] - 0s 36us/step - loss: 66.6217\n",
      "Epoch 71/100\n",
      "354/354 [==============================] - 0s 33us/step - loss: 64.7262\n",
      "Epoch 72/100\n",
      "354/354 [==============================] - 0s 29us/step - loss: 63.6090\n",
      "Epoch 73/100\n",
      "354/354 [==============================] - 0s 32us/step - loss: 60.5277\n",
      "Epoch 74/100\n",
      "354/354 [==============================] - 0s 30us/step - loss: 68.8731\n",
      "Epoch 75/100\n",
      "354/354 [==============================] - 0s 31us/step - loss: 63.7877\n",
      "Epoch 76/100\n",
      "354/354 [==============================] - ETA: 0s - loss: 65.90 - 0s 32us/step - loss: 63.7945\n",
      "Epoch 77/100\n",
      "354/354 [==============================] - 0s 29us/step - loss: 75.2626\n",
      "Epoch 78/100\n",
      "354/354 [==============================] - ETA: 0s - loss: 47.87 - 0s 33us/step - loss: 63.7568\n",
      "Epoch 79/100\n",
      "354/354 [==============================] - 0s 33us/step - loss: 65.4002\n",
      "Epoch 80/100\n",
      "354/354 [==============================] - 0s 32us/step - loss: 66.7234\n",
      "Epoch 81/100\n",
      "354/354 [==============================] - 0s 28us/step - loss: 66.0045\n",
      "Epoch 82/100\n",
      "354/354 [==============================] - 0s 35us/step - loss: 74.5158\n",
      "Epoch 83/100\n",
      "354/354 [==============================] - ETA: 0s - loss: 87.72 - 0s 34us/step - loss: 66.1991\n",
      "Epoch 84/100\n",
      "354/354 [==============================] - 0s 33us/step - loss: 64.0679\n",
      "Epoch 85/100\n",
      "354/354 [==============================] - 0s 35us/step - loss: 59.9861\n",
      "Epoch 86/100\n",
      "354/354 [==============================] - 0s 32us/step - loss: 66.7422\n",
      "Epoch 87/100\n",
      "354/354 [==============================] - 0s 34us/step - loss: 61.8268\n",
      "Epoch 88/100\n",
      "354/354 [==============================] - 0s 31us/step - loss: 58.4078\n",
      "Epoch 89/100\n",
      "354/354 [==============================] - 0s 32us/step - loss: 65.0931\n",
      "Epoch 90/100\n",
      "354/354 [==============================] - 0s 31us/step - loss: 60.2985\n",
      "Epoch 91/100\n",
      "354/354 [==============================] - 0s 33us/step - loss: 61.7256\n",
      "Epoch 92/100\n",
      "354/354 [==============================] - 0s 38us/step - loss: 62.4957\n",
      "Epoch 93/100\n",
      "354/354 [==============================] - 0s 37us/step - loss: 68.1012\n",
      "Epoch 94/100\n",
      "354/354 [==============================] - 0s 34us/step - loss: 65.7299\n",
      "Epoch 95/100\n"
     ]
    },
    {
     "name": "stdout",
     "output_type": "stream",
     "text": [
      "354/354 [==============================] - 0s 34us/step - loss: 66.3461\n",
      "Epoch 96/100\n",
      "354/354 [==============================] - 0s 32us/step - loss: 67.2665\n",
      "Epoch 97/100\n",
      "354/354 [==============================] - 0s 45us/step - loss: 66.0038\n",
      "Epoch 98/100\n",
      "354/354 [==============================] - 0s 44us/step - loss: 67.2901\n",
      "Epoch 99/100\n",
      "354/354 [==============================] - 0s 39us/step - loss: 63.7506\n",
      "Epoch 100/100\n",
      "354/354 [==============================] - 0s 36us/step - loss: 65.0152\n"
     ]
    },
    {
     "data": {
      "text/plain": [
       "<keras.callbacks.History at 0x118695240>"
      ]
     },
     "execution_count": 11,
     "metadata": {},
     "output_type": "execute_result"
    }
   ],
   "source": [
    "model.fit(x_train, y_train, epochs=100)"
   ]
  },
  {
   "cell_type": "markdown",
   "metadata": {},
   "source": [
    "# Evaluation\n",
    "Now that we have trained our model we can evaluate it on our testing set. It is also just one line of code."
   ]
  },
  {
   "cell_type": "code",
   "execution_count": 12,
   "metadata": {},
   "outputs": [
    {
     "name": "stdout",
     "output_type": "stream",
     "text": [
      "Loss:  52.4505498786\n"
     ]
    }
   ],
   "source": [
    "print(\"Loss: \", model.evaluate(x_test, y_test, verbose=0))"
   ]
  },
  {
   "cell_type": "markdown",
   "metadata": {},
   "source": [
    "This loss might seem very high and it is, mostly because there aren't very many training points in the dataset (also no effort was put into finding the best model)."
   ]
  },
  {
   "cell_type": "markdown",
   "metadata": {},
   "source": [
    "We can also generate predictions for new data that we don't have labels for. Since we don't have new data, I will just demonstrate the idea with our testing data."
   ]
  },
  {
   "cell_type": "code",
   "execution_count": 13,
   "metadata": {
    "scrolled": true
   },
   "outputs": [
    {
     "name": "stdout",
     "output_type": "stream",
     "text": [
      "[[ 18.18349838]\n",
      " [ 21.9148674 ]\n",
      " [ 25.15127945]\n",
      " [ 21.99514771]\n",
      " [ 17.43515396]\n",
      " [ 22.3220253 ]\n",
      " [ 20.64574051]\n",
      " [ 25.49084854]\n",
      " [ 23.74580002]\n",
      " [ 24.95541763]\n",
      " [ 17.73351288]\n",
      " [ 23.8491745 ]\n",
      " [ 27.4679451 ]\n",
      " [ 24.25749588]\n",
      " [ 26.87765121]\n",
      " [ 11.76594734]\n",
      " [ 23.61303329]\n",
      " [ 23.21966934]\n",
      " [ 23.60427094]\n",
      " [ 23.46980286]\n",
      " [ 24.11470795]\n",
      " [ 27.18271637]\n",
      " [ 24.7878418 ]\n",
      " [ 15.8793478 ]\n",
      " [ 28.06814194]\n",
      " [ 25.4708252 ]\n",
      " [ 24.36824799]\n",
      " [ 20.15881348]\n",
      " [ 20.47098541]\n",
      " [ 28.73714066]\n",
      " [ 23.0264473 ]\n",
      " [ 25.13087463]\n",
      " [ 17.98332405]\n",
      " [ 22.33901978]\n",
      " [ 25.0833168 ]\n",
      " [ 20.23732376]\n",
      " [ 13.10124207]\n",
      " [ 24.09276581]\n",
      " [ 25.19613266]\n",
      " [ 18.30592346]\n",
      " [ 17.77886963]\n",
      " [ 11.80093098]\n",
      " [ 11.74974823]\n",
      " [ 24.69401169]\n",
      " [ 17.38745499]\n",
      " [ 25.39510345]\n",
      " [ 28.53562927]\n",
      " [ 26.62859344]\n",
      " [ 17.61863899]\n",
      " [ 30.10126877]\n",
      " [ 11.20275402]\n",
      " [ 20.84393311]\n",
      " [ 26.29474258]\n",
      " [ 20.306633  ]\n",
      " [ 25.56598282]\n",
      " [ 22.42420959]\n",
      " [ 26.81739426]\n",
      " [ 26.6353302 ]\n",
      " [ 25.060112  ]\n",
      " [ 18.38161469]\n",
      " [ 12.82723141]\n",
      " [ 22.65930557]\n",
      " [ 20.46644974]\n",
      " [ 27.24979019]\n",
      " [ 16.54669952]\n",
      " [ 25.31856155]\n",
      " [ 24.8171196 ]\n",
      " [ 21.54673767]\n",
      " [ 18.28603172]\n",
      " [ 18.3986454 ]\n",
      " [ 17.06376648]\n",
      " [ 12.06410408]\n",
      " [ 24.15401077]\n",
      " [ 24.25481796]\n",
      " [ 29.89803314]\n",
      " [ 18.62794876]\n",
      " [ 23.6128273 ]\n",
      " [ 34.4788208 ]\n",
      " [ 12.05599022]\n",
      " [ 24.7481308 ]\n",
      " [ 21.26902008]\n",
      " [ 12.57616806]\n",
      " [ 29.00150299]\n",
      " [ 24.64271545]\n",
      " [ 18.54217529]\n",
      " [ 17.64432144]\n",
      " [ 19.88123322]\n",
      " [ 17.21917534]\n",
      " [ 17.99873352]\n",
      " [ 30.88640213]\n",
      " [ 27.63279343]\n",
      " [ 24.15906143]\n",
      " [ 18.04572487]\n",
      " [ 24.71011734]\n",
      " [ 26.35474777]\n",
      " [ 26.33514023]\n",
      " [ 28.61886597]\n",
      " [ 23.56204605]\n",
      " [ 18.34022522]\n",
      " [ 24.92705917]\n",
      " [ 33.52595901]\n",
      " [ 24.09063721]\n",
      " [ 17.822855  ]\n",
      " [ 22.75795746]\n",
      " [ 25.54609299]\n",
      " [ 25.62271118]\n",
      " [ 17.93966103]\n",
      " [ 26.33603287]\n",
      " [ 28.98300934]\n",
      " [ 25.22119904]\n",
      " [ 18.24472046]\n",
      " [ 18.00522041]\n",
      " [ 14.24927998]\n",
      " [ 22.10554886]\n",
      " [ 24.7128067 ]\n",
      " [ 29.77466965]\n",
      " [ 16.52710342]\n",
      " [ 28.61841583]\n",
      " [ 16.17970467]\n",
      " [ 17.68021011]\n",
      " [ 18.2169857 ]\n",
      " [ 25.98475266]\n",
      " [ 18.28932571]\n",
      " [ 16.7492981 ]\n",
      " [ 26.37020874]\n",
      " [ 24.24171066]\n",
      " [ 24.53987122]\n",
      " [ 24.9561882 ]\n",
      " [ 28.47570038]\n",
      " [ 17.250103  ]\n",
      " [ 23.41956329]\n",
      " [ 25.96928787]\n",
      " [ 24.0687294 ]\n",
      " [ 17.85212326]\n",
      " [ 23.65477371]\n",
      " [ 23.73763275]\n",
      " [ 18.05988312]\n",
      " [ 23.63933563]\n",
      " [ 24.44457245]\n",
      " [ 18.59244156]\n",
      " [ 24.71831512]\n",
      " [ 26.22689819]\n",
      " [ 26.21387863]\n",
      " [ 26.16569138]\n",
      " [ 28.63142395]\n",
      " [ 20.69855309]\n",
      " [ 25.63085938]\n",
      " [ 17.98069   ]\n",
      " [ 23.05541229]\n",
      " [ 21.60293198]\n",
      " [ 23.46635437]\n",
      " [ 17.42547798]]\n"
     ]
    }
   ],
   "source": [
    "y_predicted = model.predict(x_test)\n",
    "print(y_predicted)"
   ]
  },
  {
   "cell_type": "markdown",
   "metadata": {},
   "source": [
    "That's it. We have successfully (depending on your definition of success) built a fully connected neural network and trained that network on a dataset. Now its your turn."
   ]
  },
  {
   "cell_type": "markdown",
   "metadata": {
    "collapsed": true
   },
   "source": [
    "# Problem 1: Image Classification\n",
    "We are going to build a convolutional neural network to predict image classes on CIFAR-10, a dataset of images of 10 different things (i.e. 10 classes). Things like aeroplanes, cars, deer, horses, etc. "
   ]
  },
  {
   "cell_type": "markdown",
   "metadata": {},
   "source": [
    "**(a)** Load the cifar10 dataset from Keras. If you need a hint go to [Keras Datasets](https://keras.io/datasets). This might take a little while to download."
   ]
  },
  {
   "cell_type": "code",
   "execution_count": 134,
   "metadata": {},
   "outputs": [
    {
     "name": "stdout",
     "output_type": "stream",
     "text": [
      "(50000, 32, 32, 3)\n",
      "(10000, 32, 32, 3)\n"
     ]
    }
   ],
   "source": [
    "from keras.datasets import cifar10\n",
    "(cifar_x_train, cifar_y_train), (cifar_x_test, cifar_y_test) = cifar10.load_data()\n",
    "print(cifar_x_train.shape)\n",
    "print(cifar_x_test.shape)"
   ]
  },
  {
   "cell_type": "markdown",
   "metadata": {},
   "source": [
    "**(b)** Initialize a Sequential model"
   ]
  },
  {
   "cell_type": "code",
   "execution_count": 135,
   "metadata": {},
   "outputs": [
    {
     "data": {
      "text/plain": [
       "50000"
      ]
     },
     "execution_count": 135,
     "metadata": {},
     "output_type": "execute_result"
    }
   ],
   "source": [
    "cifar_model = Sequential()\n",
    "len(cifar_x_train)"
   ]
  },
  {
   "cell_type": "markdown",
   "metadata": {},
   "source": [
    "**(c)** Add a ``Conv2D`` layer to the model. It should have 32 filters, a 5x5 kernel, and a 1x1 stride. The documentation [here](https://keras.io/layers/convolutional/#conv2d) will be your friend for this problem. __Hint:__ This is the first layer of the model so you have to specify the input shape. I recommend printing ``cifar_x_train.shape``, to get an idea of what the shape of the data looks like. Then add a ```relu``` activation layer to the model."
   ]
  },
  {
   "cell_type": "code",
   "execution_count": 136,
   "metadata": {},
   "outputs": [
    {
     "name": "stdout",
     "output_type": "stream",
     "text": [
      "(50000, 32, 32, 3)\n",
      "(50000, 1)\n"
     ]
    }
   ],
   "source": [
    "from keras.layers.convolutional import Conv2D\n",
    "from keras.layers import Dense, Activation\n",
    "print(cifar_x_train.shape)\n",
    "print(cifar_y_train.shape)\n",
    "cifar_model.add(Conv2D(32,(5,5),input_shape=(32,32,3)))\n",
    "##YOUR CODE HERE\n",
    "cifar_model.add(Activation('relu'))"
   ]
  },
  {
   "cell_type": "markdown",
   "metadata": {},
   "source": [
    "**(d)** Add a ``MaxPooling2D`` layer to the model. The layer should have a 2x2 pool size. The documentation for Max Pooling is [here](https://keras.io/layers/pooling/)."
   ]
  },
  {
   "cell_type": "code",
   "execution_count": 137,
   "metadata": {
    "collapsed": true
   },
   "outputs": [],
   "source": [
    "from keras.layers.pooling import MaxPooling2D\n",
    "cifar_model.add(MaxPooling2D(pool_size = (2,2)))"
   ]
  },
  {
   "cell_type": "markdown",
   "metadata": {},
   "source": [
    "**(e)** Add another ``Conv2D`` identical to last one, then another ``relu`` activation, then another ``MaxPooling2D`` layer. __Hint:__ You've already written this code"
   ]
  },
  {
   "cell_type": "code",
   "execution_count": 138,
   "metadata": {
    "collapsed": true
   },
   "outputs": [],
   "source": [
    "##YOUR CODE HERE\n",
    "cifar_model.add(Conv2D(32,(5,5)))\n",
    "cifar_model.add(Activation('relu'))\n",
    "\n",
    "cifar_model.add(MaxPooling2D(pool_size = (2,2)))"
   ]
  },
  {
   "cell_type": "markdown",
   "metadata": {},
   "source": [
    "**(f)** Add another ``Conv2D`` layer identical to the others except with 64 filters instead of 32. Add another ``relu`` activation layer."
   ]
  },
  {
   "cell_type": "code",
   "execution_count": 139,
   "metadata": {
    "collapsed": true
   },
   "outputs": [],
   "source": [
    "##YOUR CODE HERE\n",
    "cifar_model.add(Conv2D(64, (5,5)))\n",
    "cifar_model.add(Activation('relu'))"
   ]
  },
  {
   "cell_type": "markdown",
   "metadata": {},
   "source": [
    "**(g)** Now we want to move from 2D data to 1D vectors for classification, to this we have to flatten the data. Keras has a layer for this called [Flatten](https://keras.io/layers/core/#flatten). Then add a ``Dense`` (fully connected) layer with 64 neurons, a ``relu`` activation layer, another ``Dense`` layer with 10 neurons, and a ``softmax`` activation layer."
   ]
  },
  {
   "cell_type": "code",
   "execution_count": 140,
   "metadata": {},
   "outputs": [
    {
     "name": "stdout",
     "output_type": "stream",
     "text": [
      "(50000, 32, 32, 3)\n"
     ]
    }
   ],
   "source": [
    "from keras.layers import Flatten\n",
    "##YOUR CODE HERE\n",
    "cifar_model.add(Flatten())\n",
    "print(cifar_x_train.shape)\n",
    "cifar_model.add(Dense(64))\n",
    "cifar_model.add(Activation('relu'))\n",
    "cifar_model.add(Dense(10))\n",
    "cifar_model.add(Activation('softmax'))"
   ]
  },
  {
   "cell_type": "markdown",
   "metadata": {},
   "source": [
    "Notice that we have constructed a network that takes in an image and outputs a vector of 10 numbers and then we take the softmax of these, which leaves us we a vector of 0s except 1 one and the location of this one in the vector corresponds to which class the network is predicting for that image. This is sort of the canonical way of doing image classification."
   ]
  },
  {
   "cell_type": "markdown",
   "metadata": {},
   "source": [
    "**(h)** Now print a summary of your network."
   ]
  },
  {
   "cell_type": "code",
   "execution_count": 141,
   "metadata": {},
   "outputs": [
    {
     "name": "stdout",
     "output_type": "stream",
     "text": [
      "_________________________________________________________________\n",
      "Layer (type)                 Output Shape              Param #   \n",
      "=================================================================\n",
      "conv2d_32 (Conv2D)           (None, 28, 28, 32)        2432      \n",
      "_________________________________________________________________\n",
      "activation_46 (Activation)   (None, 28, 28, 32)        0         \n",
      "_________________________________________________________________\n",
      "max_pooling2d_18 (MaxPooling (None, 14, 14, 32)        0         \n",
      "_________________________________________________________________\n",
      "conv2d_33 (Conv2D)           (None, 10, 10, 32)        25632     \n",
      "_________________________________________________________________\n",
      "activation_47 (Activation)   (None, 10, 10, 32)        0         \n",
      "_________________________________________________________________\n",
      "max_pooling2d_19 (MaxPooling (None, 5, 5, 32)          0         \n",
      "_________________________________________________________________\n",
      "conv2d_34 (Conv2D)           (None, 1, 1, 64)          51264     \n",
      "_________________________________________________________________\n",
      "activation_48 (Activation)   (None, 1, 1, 64)          0         \n",
      "_________________________________________________________________\n",
      "flatten_12 (Flatten)         (None, 64)                0         \n",
      "_________________________________________________________________\n",
      "dense_21 (Dense)             (None, 64)                4160      \n",
      "_________________________________________________________________\n",
      "activation_49 (Activation)   (None, 64)                0         \n",
      "_________________________________________________________________\n",
      "dense_22 (Dense)             (None, 10)                650       \n",
      "_________________________________________________________________\n",
      "activation_50 (Activation)   (None, 10)                0         \n",
      "=================================================================\n",
      "Total params: 84,138\n",
      "Trainable params: 84,138\n",
      "Non-trainable params: 0\n",
      "_________________________________________________________________\n"
     ]
    }
   ],
   "source": [
    "##YOUR CODE HERE\n",
    "cifar_model.summary()"
   ]
  },
  {
   "cell_type": "markdown",
   "metadata": {},
   "source": [
    "**(i)** We need to convert our labels from integers to length 10 vectors with 9 zeros and 1 one, where the integer label is the index of the 1 in the vector. Luckily, Keras has a handy function to do this for us. Have a look [here](https://keras.io/utils/#to_categorical)"
   ]
  },
  {
   "cell_type": "code",
   "execution_count": 142,
   "metadata": {
    "collapsed": true
   },
   "outputs": [],
   "source": [
    "from keras.utils import to_categorical\n",
    "y_train_cat = to_categorical(cifar_y_train)\n",
    "y_test_cat = to_categorical(cifar_y_test)"
   ]
  },
  {
   "cell_type": "markdown",
   "metadata": {},
   "source": [
    "**(j)** Now compile the model with SGD optimizer and categorical_crossentropy loss function, also include ``metrics=['accuracy']`` as a parameter so we can see the accuracy of the model. Then train the model on the training data. For training we want to weight the classes in the loss function, so set the ``class_weight`` parameter of fit to be the ``class_weights`` dictionary. Be warned training can take forever, I trained on a cpu for 20 epochs (about 30 minutes) and only got 20% accuracy. For the purposes of this assignment you don't need to worry to much about accuracy, just train for at least 1 epoch."
   ]
  },
  {
   "cell_type": "code",
   "execution_count": 143,
   "metadata": {
    "collapsed": true
   },
   "outputs": [],
   "source": [
    "##YOUR COMPILING CODE HERE\n",
    "cifar_model.compile(optimizer = 'sgd', loss = 'categorical_crossentropy', metrics = ['accuracy'])"
   ]
  },
  {
   "cell_type": "code",
   "execution_count": null,
   "metadata": {},
   "outputs": [],
   "source": [
    "class_weights = {}\n",
    "for i in range(10):\n",
    "    class_weights[i] = 1. / np.where(cifar_y_train==i)[0].size\n",
    "\n",
    "       \n",
    "    \n",
    "##YOUR TRAINING CODE HERE\n",
    "model.fit(to_categorical(cifar_x_train), y_train_cat, epochs = 1, class_weight = class_weights)"
   ]
  },
  {
   "cell_type": "markdown",
   "metadata": {},
   "source": [
    "Now we can evaluate on our test set."
   ]
  },
  {
   "cell_type": "code",
   "execution_count": 97,
   "metadata": {},
   "outputs": [
    {
     "name": "stdout",
     "output_type": "stream",
     "text": [
      "10000/10000 [==============================] - 5s 476us/step\n"
     ]
    },
    {
     "data": {
      "text/plain": [
       "[13.40986159210205, 0.1023]"
      ]
     },
     "execution_count": 97,
     "metadata": {},
     "output_type": "execute_result"
    }
   ],
   "source": [
    "cifar_model.evaluate(cifar_x_test, y_test_cat)"
   ]
  },
  {
   "cell_type": "markdown",
   "metadata": {},
   "source": [
    "We can also get the class labels the network predicts on our test set and look at a few examples."
   ]
  },
  {
   "cell_type": "code",
   "execution_count": 98,
   "metadata": {},
   "outputs": [
    {
     "name": "stdout",
     "output_type": "stream",
     "text": [
      "Predicted label:  6\n",
      "True label:  [1]\n"
     ]
    },
    {
     "data": {
      "image/png": "[encoded data removed]",
      "text/plain": [
       "<matplotlib.figure.Figure at 0x129a56c88>"
      ]
     },
     "metadata": {},
     "output_type": "display_data"
    }
   ],
   "source": [
    "y_pred = cifar_model.predict(cifar_x_test)\n",
    "import matplotlib.pyplot as plt\n",
    "%matplotlib inline\n",
    "plt.imshow(cifar_x_test[1234])\n",
    "print(\"Predicted label: \", np.argmax(y_pred[1234]))\n",
    "print(\"True label: \", cifar_y_test[1234])"
   ]
  },
  {
   "cell_type": "markdown",
   "metadata": {},
   "source": [
    "# Problem 2: Sentiment Classification"
   ]
  },
  {
   "cell_type": "markdown",
   "metadata": {},
   "source": [
    "In this problem we will use Kera's imdb sentiment dataset. You will take in sequences of words and use an RNN to try to classify the sequences sentiment. First we have to process the data a little bit, so that we have fixed length sequences."
   ]
  },
  {
   "cell_type": "code",
   "execution_count": 73,
   "metadata": {},
   "outputs": [
    {
     "name": "stdout",
     "output_type": "stream",
     "text": [
      "Downloading data from https://s3.amazonaws.com/text-datasets/imdb.npz\n",
      "17465344/17464789 [==============================] - 5s 0us/step\n"
     ]
    }
   ],
   "source": [
    "from keras.datasets import imdb\n",
    "(x_train, y_train), (x_test, y_test) = imdb.load_data(num_words=1000, maxlen=200)"
   ]
  },
  {
   "cell_type": "code",
   "execution_count": 74,
   "metadata": {
    "collapsed": true
   },
   "outputs": [],
   "source": [
    "def process_data(data):\n",
    "    processed = np.zeros(len(data) * 200).reshape((len(data), 200))\n",
    "    for i, seq in enumerate(data):\n",
    "        if len(seq) < 200:\n",
    "            processed[i] = np.array(seq + [0 for _ in range(200 - len(seq))])\n",
    "        else:\n",
    "            processed[i] = np.array(seq)\n",
    "    return processed"
   ]
  },
  {
   "cell_type": "code",
   "execution_count": 75,
   "metadata": {},
   "outputs": [
    {
     "name": "stdout",
     "output_type": "stream",
     "text": [
      "(3913, 200)\n"
     ]
    }
   ],
   "source": [
    "x_train_proc = process_data(x_train)\n",
    "x_test_proc = process_data(x_test)\n",
    "print(x_test_proc.shape)"
   ]
  },
  {
   "cell_type": "markdown",
   "metadata": {},
   "source": [
    "The Embedding Layer is a little bit different from most of the layers, so we have provided that code for you. Basically, the 1000 means that we are using a vocabulary size of 1000, the 32 means we will have a vector of size 32 outputed, and the mask zero means that we don't care about 0, because we are using it for padding."
   ]
  },
  {
   "cell_type": "code",
   "execution_count": 76,
   "metadata": {
    "collapsed": true
   },
   "outputs": [],
   "source": [
    "imdb_model = Sequential()"
   ]
  },
  {
   "cell_type": "code",
   "execution_count": 77,
   "metadata": {
    "collapsed": true
   },
   "outputs": [],
   "source": [
    "from keras.layers.embeddings import Embedding\n",
    "imdb_model.add(Embedding(1000, 32, input_length=200, mask_zero=True))"
   ]
  },
  {
   "cell_type": "markdown",
   "metadata": {},
   "source": [
    "**(a)** For this problem, I won't walk you everything like I did in the last one. What you need to do is as follows. Add an LSTM layer with 32 outputs, then a Dense layer with 32 neurons, then a relu activation, then a dense layer with 1 neuron, then a sigmoid activation. Then you should print out the model summary."
   ]
  },
  {
   "cell_type": "code",
   "execution_count": 79,
   "metadata": {},
   "outputs": [
    {
     "name": "stdout",
     "output_type": "stream",
     "text": [
      "_________________________________________________________________\n",
      "Layer (type)                 Output Shape              Param #   \n",
      "=================================================================\n",
      "embedding_1 (Embedding)      (None, 200, 32)           32000     \n",
      "_________________________________________________________________\n",
      "lstm_1 (LSTM)                (None, 32)                8320      \n",
      "_________________________________________________________________\n",
      "dense_11 (Dense)             (None, 32)                1056      \n",
      "_________________________________________________________________\n",
      "activation_23 (Activation)   (None, 32)                0         \n",
      "_________________________________________________________________\n",
      "dense_12 (Dense)             (None, 1)                 33        \n",
      "_________________________________________________________________\n",
      "activation_24 (Activation)   (None, 1)                 0         \n",
      "=================================================================\n",
      "Total params: 41,409\n",
      "Trainable params: 41,409\n",
      "Non-trainable params: 0\n",
      "_________________________________________________________________\n"
     ]
    }
   ],
   "source": [
    "##YOUR CODE HERE\n",
    "from keras.layers import LSTM\n",
    "imdb_model.add(LSTM(32))\n",
    "imdb_model.add(Dense(32))\n",
    "imdb_model.add(Activation('relu'))\n",
    "imdb_model.add(Dense(1))\n",
    "imdb_model.add(Activation('sigmoid'))\n",
    "imdb_model.summary()"
   ]
  },
  {
   "cell_type": "markdown",
   "metadata": {},
   "source": [
    "**(b)** Now compile the model with binary cross entropy, and the adam optimizer. Also include accuracy as a metric in the compile. Then train the model on the processed data (no need to worry about class weights this time)"
   ]
  },
  {
   "cell_type": "code",
   "execution_count": 80,
   "metadata": {},
   "outputs": [
    {
     "name": "stdout",
     "output_type": "stream",
     "text": [
      "Epoch 1/1\n",
      "25000/25000 [==============================] - 126s 5ms/step - loss: 0.4010\n"
     ]
    },
    {
     "data": {
      "text/plain": [
       "<keras.callbacks.History at 0x11a610208>"
      ]
     },
     "execution_count": 80,
     "metadata": {},
     "output_type": "execute_result"
    }
   ],
   "source": [
    "##YOUR CODE HERE\n",
    "imdb_model.compile(optimizer = 'adam', loss = 'binary_crossentropy')\n",
    "imdb_model.fit(x_train_proc, y_train, epochs = 1)"
   ]
  },
  {
   "cell_type": "markdown",
   "metadata": {},
   "source": [
    "After training we can evaluate our model on the test set."
   ]
  },
  {
   "cell_type": "code",
   "execution_count": 82,
   "metadata": {},
   "outputs": [
    {
     "name": "stdout",
     "output_type": "stream",
     "text": [
      "3913/3913 [==============================] - 4s 1ms/step\n",
      "Accuracy:  0.336958699052\n"
     ]
    }
   ],
   "source": [
    "print(\"Accuracy: \", imdb_model.evaluate(x_test_proc, y_test))"
   ]
  },
  {
   "cell_type": "markdown",
   "metadata": {},
   "source": [
    "Now we can look at our predictions and the sentences they correspond to."
   ]
  },
  {
   "cell_type": "code",
   "execution_count": 83,
   "metadata": {
    "collapsed": true
   },
   "outputs": [],
   "source": [
    "y_pred = imdb_model.predict(x_test_proc)"
   ]
  },
  {
   "cell_type": "code",
   "execution_count": 84,
   "metadata": {},
   "outputs": [
    {
     "name": "stdout",
     "output_type": "stream",
     "text": [
      "Downloading data from https://s3.amazonaws.com/text-datasets/imdb_word_index.json\n",
      "1646592/1641221 [==============================] - 1s 1us/step\n",
      "['the', 'and', 'with', 'of', 'how', \"i've\", 'fast', 'ever', 'for', 'and', 'maybe', 'and', 'make', 'and', 'this', 'of', 'later', 'stories', 'and', 'to', 'that', 'and', 'in', 'as', 'hard', 'of', 'time', 'where', 'of', 'their', 'it', 'hell', 'and', 'it', 'is', 'and', 'few', 'first', 'of', 'care', 'br', 'during', 'and', 'and', 'and', 'they', 'and', 'and', 'and', 'are', 'and', 'myself', 'years', 'more', 'he', 'plot', 'seems', 'in', 'and', 'as', 'ever', 'are', 'or', 'of', \"you'll\", 'really', 'this', 'only', 'middle', 'with', 'of', 'where', 'are', 'fast', 'no', 'as', 'ever', 'and', 'development', 'try', 'and', 'love', 'where', 'br', 'of', 'where', 'to', 'of', 'films', 'as', 'ever', 'out', 'and', 'and', 'only', 'and', 'better', 'as', 'ever', 'with', 'is', 'and', 'and', 'and', 'friends', 'of', 'and', 'and', 'watch', 'for', 'and', 'than', 'and', 'show', 'for', 'and', '9', 'br', 'and', 'to', 'whole', 'in', 'and', 'as', 'and', 'lives', 'and', 'in', 'we', 'it', 'is', 'still', 'ever', 'been', 'and', 'loved', 'to', 'if', 'is', 'dramatic', 'for', 'was', 'best', 'and', 'think', 'word', 'and', 'i', 'i', 'and', 'in', 'an', 'like', 'than', 'daughter', 'this', 'as', 'and', 'and', 'and', 'ever', 'i', 'i', 'and']\n"
     ]
    }
   ],
   "source": [
    "y_pred = np.vectorize(lambda x: int(x >= 0.5))(y_pred)\n",
    "correct = []\n",
    "incorrect = []\n",
    "for i, pred in enumerate(y_pred):\n",
    "    if y_test[i] == pred:\n",
    "        correct.append(i)\n",
    "    else:\n",
    "        incorrect.append(i)\n",
    "word_dict = inv_map = {v: k for k, v in imdb.get_word_index().items()}\n",
    "\n",
    "print(list(map(lambda x: word_dict[int(x)] if x != 0 else None, x_test[correct[123]])))"
   ]
  },
  {
   "cell_type": "markdown",
   "metadata": {},
   "source": [
    "After making this I realized that keras' method for converting from word index back to words is broken right now (see this open [github issue](https://github.com/fchollet/keras/issues/5912)). So we can't actually see what the sentences look like."
   ]
  }
 ],
 "metadata": {
  "anaconda-cloud": {},
  "kernelspec": {
   "display_name": "Python 3",
   "language": "python",
   "name": "python3"
  },
  "language_info": {
   "codemirror_mode": {
    "name": "ipython",
    "version": 3
   },
   "file_extension": ".py",
   "mimetype": "text/x-python",
   "name": "python",
   "nbconvert_exporter": "python",
   "pygments_lexer": "ipython3",
   "version": "3.6.1"
  }
 },
 "nbformat": 4,
 "nbformat_minor": 1
}
